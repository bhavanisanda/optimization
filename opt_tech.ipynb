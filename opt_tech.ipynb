{
  "nbformat": 4,
  "nbformat_minor": 0,
  "metadata": {
    "colab": {
      "provenance": [],
      "authorship_tag": "ABX9TyNJhl20GRIcxPDdQ6z9v61a",
      "include_colab_link": true
    },
    "kernelspec": {
      "name": "python3",
      "display_name": "Python 3"
    },
    "language_info": {
      "name": "python"
    }
  },
  "cells": [
    {
      "cell_type": "markdown",
      "metadata": {
        "id": "view-in-github",
        "colab_type": "text"
      },
      "source": [
        "<a href=\"https://colab.research.google.com/github/bhavanisanda/optimization/blob/main/opt_tech.ipynb\" target=\"_parent\"><img src=\"https://colab.research.google.com/assets/colab-badge.svg\" alt=\"Open In Colab\"/></a>"
      ]
    },
    {
      "cell_type": "code",
      "execution_count": null,
      "metadata": {
        "colab": {
          "base_uri": "https://localhost:8080/"
        },
        "id": "Ny0gaHZ2Vvd8",
        "outputId": "a0e9e8ef-9f6c-4e03-974e-7fc34067b439"
      },
      "outputs": [
        {
          "output_type": "stream",
          "name": "stdout",
          "text": [
            "Looking in indexes: https://pypi.org/simple, https://us-python.pkg.dev/colab-wheels/public/simple/\n",
            "Requirement already satisfied: pulp in /usr/local/lib/python3.8/dist-packages (2.7.0)\n"
          ]
        }
      ],
      "source": [
        "!pip install pulp"
      ]
    },
    {
      "cell_type": "code",
      "source": [
        "import pulp\n",
        "from pulp import LpProblem"
      ],
      "metadata": {
        "id": "DHo67xVJVyVH"
      },
      "execution_count": null,
      "outputs": []
    },
    {
      "cell_type": "markdown",
      "source": [
        "# 1.company 2 chocolates A and B -requires milk and choco, A-1 milk,3 choco, B-1milk,2 choco ,profit -A-6,B-5, availabity -5 milk,12 choco"
      ],
      "metadata": {
        "id": "BIjynIQhkTgI"
      }
    },
    {
      "cell_type": "code",
      "source": [
        "manufacturing_products_lp = pulp.LpProblem(\"manufacturing 2 types of chocolates\",pulp.LpMaximize)"
      ],
      "metadata": {
        "id": "OHGjeJlzV4Qt"
      },
      "execution_count": null,
      "outputs": []
    },
    {
      "cell_type": "code",
      "source": [
        "P1=pulp.LpVariable(\"P1\",lowBound=0,cat=\"Integer\")\n",
        "P2=pulp.LpVariable(\"P2\",lowBound=0,cat=\"Integer\")"
      ],
      "metadata": {
        "id": "lc7ZWduPWjXJ"
      },
      "execution_count": null,
      "outputs": []
    },
    {
      "cell_type": "code",
      "source": [
        "manufacturing_products_lp +=6*P1+5*P2 ,\"Z\""
      ],
      "metadata": {
        "id": "XpWCifXRXY5-"
      },
      "execution_count": null,
      "outputs": []
    },
    {
      "cell_type": "code",
      "source": [
        "manufacturing_products_lp"
      ],
      "metadata": {
        "colab": {
          "base_uri": "https://localhost:8080/"
        },
        "id": "EGnPjX4hYg0N",
        "outputId": "03e05561-1442-495f-b0b4-60c209efa4b5"
      },
      "execution_count": null,
      "outputs": [
        {
          "output_type": "execute_result",
          "data": {
            "text/plain": [
              "manufacturing_2_types_of_chocolates:\n",
              "MAXIMIZE\n",
              "6*P1 + 5*P2 + 0\n",
              "VARIABLES\n",
              "0 <= P1 Integer\n",
              "0 <= P2 Integer"
            ]
          },
          "metadata": {},
          "execution_count": 45
        }
      ]
    },
    {
      "cell_type": "code",
      "source": [
        "manufacturing_products_lp +=P1+P2 <=5,\"c1\"\n",
        "manufacturing_products_lp +=3*P1+2*P2 <=12,\"c2\""
      ],
      "metadata": {
        "id": "LxX0_2hdYil_"
      },
      "execution_count": null,
      "outputs": []
    },
    {
      "cell_type": "code",
      "source": [
        "manufacturing_products_lp"
      ],
      "metadata": {
        "colab": {
          "base_uri": "https://localhost:8080/"
        },
        "id": "CSGxzCy3ZGn9",
        "outputId": "75cb4b81-1ffc-450c-b3e5-9f0841df9206"
      },
      "execution_count": null,
      "outputs": [
        {
          "output_type": "execute_result",
          "data": {
            "text/plain": [
              "manufacturing_2_types_of_chocolates:\n",
              "MAXIMIZE\n",
              "6*P1 + 5*P2 + 0\n",
              "SUBJECT TO\n",
              "c1: P1 + P2 <= 5\n",
              "\n",
              "c2: 3 P1 + 2 P2 <= 12\n",
              "\n",
              "VARIABLES\n",
              "0 <= P1 Integer\n",
              "0 <= P2 Integer"
            ]
          },
          "metadata": {},
          "execution_count": 47
        }
      ]
    },
    {
      "cell_type": "code",
      "source": [
        "manufacturing_products_lp.solve()\n",
        "pulp.LpStatus[manufacturing_products_lp.status]"
      ],
      "metadata": {
        "colab": {
          "base_uri": "https://localhost:8080/",
          "height": 35
        },
        "id": "u46RLRjNZy7B",
        "outputId": "e27b61c4-c38b-438f-d80a-4a4838bfa769"
      },
      "execution_count": null,
      "outputs": [
        {
          "output_type": "execute_result",
          "data": {
            "text/plain": [
              "'Optimal'"
            ],
            "application/vnd.google.colaboratory.intrinsic+json": {
              "type": "string"
            }
          },
          "metadata": {},
          "execution_count": 48
        }
      ]
    },
    {
      "cell_type": "code",
      "source": [
        "print(\"The optimized solution :\", pulp.value(manufacturing_products_lp.objective))\n",
        "for variable in manufacturing_products_lp.variables():\n",
        "  print(variable.name,variable.varValue)"
      ],
      "metadata": {
        "colab": {
          "base_uri": "https://localhost:8080/"
        },
        "id": "bvH9lVOfaDHV",
        "outputId": "439a2a53-599e-4091-aa48-eb2b482538ed"
      },
      "execution_count": null,
      "outputs": [
        {
          "output_type": "stream",
          "name": "stdout",
          "text": [
            "The optimized solution : 27.0\n",
            "P1 2.0\n",
            "P2 3.0\n"
          ]
        }
      ]
    },
    {
      "cell_type": "markdown",
      "source": [
        "# 2. A farmer with 110 hectares of land -wheat ,barley -costs -100,200 -labor-10,30 ,availabilty-10,000 ,1200 days -profit -50 ,120"
      ],
      "metadata": {
        "id": "WUMLHhiKj-Mj"
      }
    },
    {
      "cell_type": "code",
      "source": [
        "manufacturing_products_lp = pulp.LpProblem(\"manufacturing 2 types of products\",pulp.LpMaximize)"
      ],
      "metadata": {
        "id": "6tzYQfDqa6E5"
      },
      "execution_count": null,
      "outputs": []
    },
    {
      "cell_type": "code",
      "source": [
        "manufacturing_products_lp"
      ],
      "metadata": {
        "colab": {
          "base_uri": "https://localhost:8080/"
        },
        "id": "88vPiThyhKXU",
        "outputId": "59bcbb46-20bf-4971-e4f2-bf5c8d295e81"
      },
      "execution_count": null,
      "outputs": [
        {
          "output_type": "execute_result",
          "data": {
            "text/plain": [
              "manufacturing_2_types_of_products:\n",
              "MAXIMIZE\n",
              "None\n",
              "VARIABLES"
            ]
          },
          "metadata": {},
          "execution_count": 51
        }
      ]
    },
    {
      "cell_type": "code",
      "source": [
        "P1=pulp.LpVariable(\"P1\",lowBound=0,cat=\"Integer\")\n",
        "P2=pulp.LpVariable(\"P2\",lowBound=0,cat=\"Integer\")"
      ],
      "metadata": {
        "id": "x1sb0M0GhMQR"
      },
      "execution_count": null,
      "outputs": []
    },
    {
      "cell_type": "code",
      "source": [
        "manufacturing_products_lp +=50*P1+120*P2 ,\"Z\""
      ],
      "metadata": {
        "id": "zwBBhIxphc7F"
      },
      "execution_count": null,
      "outputs": []
    },
    {
      "cell_type": "code",
      "source": [
        "manufacturing_products_lp"
      ],
      "metadata": {
        "colab": {
          "base_uri": "https://localhost:8080/"
        },
        "id": "DwVqHw69hl4X",
        "outputId": "4dcea972-0b5e-42d4-998f-1246b6abd2c4"
      },
      "execution_count": null,
      "outputs": [
        {
          "output_type": "execute_result",
          "data": {
            "text/plain": [
              "manufacturing_2_types_of_products:\n",
              "MAXIMIZE\n",
              "50*P1 + 120*P2 + 0\n",
              "VARIABLES\n",
              "0 <= P1 Integer\n",
              "0 <= P2 Integer"
            ]
          },
          "metadata": {},
          "execution_count": 54
        }
      ]
    },
    {
      "cell_type": "code",
      "source": [
        "manufacturing_products_lp +=P1+2*P2 <=100,\"T1\"\n",
        "manufacturing_products_lp +=P1+3*P2 <=120,\"T2\"\n",
        "manufacturing_products_lp +=P1+P2 <=110,\"T3\""
      ],
      "metadata": {
        "id": "lfFE2BMwhnx5"
      },
      "execution_count": null,
      "outputs": []
    },
    {
      "cell_type": "code",
      "source": [
        "manufacturing_products_lp"
      ],
      "metadata": {
        "colab": {
          "base_uri": "https://localhost:8080/"
        },
        "id": "R0L0HoR5iEUB",
        "outputId": "c305143c-937a-4d3b-a3dd-e54d4e5b2d9d"
      },
      "execution_count": null,
      "outputs": [
        {
          "output_type": "execute_result",
          "data": {
            "text/plain": [
              "manufacturing_2_types_of_products:\n",
              "MAXIMIZE\n",
              "50*P1 + 120*P2 + 0\n",
              "SUBJECT TO\n",
              "T1: P1 + 2 P2 <= 100\n",
              "\n",
              "T2: P1 + 3 P2 <= 120\n",
              "\n",
              "T3: P1 + P2 <= 110\n",
              "\n",
              "VARIABLES\n",
              "0 <= P1 Integer\n",
              "0 <= P2 Integer"
            ]
          },
          "metadata": {},
          "execution_count": 56
        }
      ]
    },
    {
      "cell_type": "code",
      "source": [
        "manufacturing_products_lp.solve()\n",
        "pulp.LpStatus[manufacturing_products_lp.status]"
      ],
      "metadata": {
        "colab": {
          "base_uri": "https://localhost:8080/",
          "height": 35
        },
        "id": "nEr5wqtAi1uX",
        "outputId": "85624370-575d-449b-94e7-f243ac3c4f19"
      },
      "execution_count": null,
      "outputs": [
        {
          "output_type": "execute_result",
          "data": {
            "text/plain": [
              "'Optimal'"
            ],
            "application/vnd.google.colaboratory.intrinsic+json": {
              "type": "string"
            }
          },
          "metadata": {},
          "execution_count": 57
        }
      ]
    },
    {
      "cell_type": "code",
      "source": [
        "print(\"The optimized solution :\", pulp.value(manufacturing_products_lp.objective))\n",
        "for variable in manufacturing_products_lp.variables():\n",
        "  print(variable.name,variable.varValue)"
      ],
      "metadata": {
        "colab": {
          "base_uri": "https://localhost:8080/"
        },
        "id": "cKp7EBs5i6Az",
        "outputId": "7a7ecc47-8c2b-41f7-87ad-581159306f71"
      },
      "execution_count": null,
      "outputs": [
        {
          "output_type": "stream",
          "name": "stdout",
          "text": [
            "The optimized solution : 5400.0\n",
            "P1 60.0\n",
            "P2 20.0\n"
          ]
        }
      ]
    },
    {
      "cell_type": "markdown",
      "source": [
        "# 3.company -two types of goods A  and B requires gold,silver,A-3 silver,1 gold ,B-1 silver,2 Gold,availability -9 silver,8 gold ,profit -40 of A ,50 of B"
      ],
      "metadata": {
        "id": "C2H6Q8S-k1aq"
      }
    },
    {
      "cell_type": "code",
      "source": [
        "manufacturing_products_lp = pulp.LpProblem(\"manufacturing 2 types of products\",pulp.LpMaximize)\n",
        "P1=pulp.LpVariable(\"P1\",lowBound=0,cat=\"Integer\")\n",
        "P2=pulp.LpVariable(\"P2\",lowBound=0,cat=\"Integer\")\n",
        "manufacturing_products_lp +=40*P1+50*P2 ,\"Z\"\n",
        "manufacturing_products_lp \n",
        "manufacturing_products_lp +=3*P1+1*P2 <=9,\"T1\"\n",
        "manufacturing_products_lp +=P1+2*P2 <=8,\"T2\"\n",
        "manufacturing_products_lp\n",
        "manufacturing_products_lp.solve()\n",
        "pulp.LpStatus[manufacturing_products_lp.status]\n",
        "print(\"The optimized solution :\", pulp.value(manufacturing_products_lp.objective))\n",
        "for variable in manufacturing_products_lp.variables():\n",
        "  print(variable.name,variable.varValue)\n",
        "\n",
        "\n"
      ],
      "metadata": {
        "colab": {
          "base_uri": "https://localhost:8080/"
        },
        "id": "mm3cqCnzi-d1",
        "outputId": "4e57d677-76e6-40ec-d7ff-928b9142e164"
      },
      "execution_count": null,
      "outputs": [
        {
          "output_type": "stream",
          "name": "stdout",
          "text": [
            "The optimized solution : 230.0\n",
            "P1 2.0\n",
            "P2 3.0\n"
          ]
        }
      ]
    },
    {
      "cell_type": "markdown",
      "source": [
        "# 4.2 types of food has vit A and vit C ,food 1-vit A -2,vit c-1,food 2-vitA-1,vitC-2,cost-50 for food1 ,70 for food2,atleast 8,10"
      ],
      "metadata": {
        "id": "TWiLkdGAuKM0"
      }
    },
    {
      "cell_type": "code",
      "source": [
        "manufacturing_products_lp = pulp.LpProblem(\"manufacturing 2 types of products\",pulp.LpMinimize)\n",
        "P1=pulp.LpVariable(\"P1\",lowBound=0,cat=\"Integer\")\n",
        "P2=pulp.LpVariable(\"P2\",lowBound=0,cat=\"Integer\")\n",
        "manufacturing_products_lp +=50*P1+70*P2 ,\"Z\"\n",
        "manufacturing_products_lp \n",
        "manufacturing_products_lp +=2*P1+1*P2 >=8,\"T1\"\n",
        "manufacturing_products_lp +=P1+2*P2 >=10,\"T2\"\n",
        "manufacturing_products_lp\n",
        "manufacturing_products_lp.solve()\n",
        "pulp.LpStatus[manufacturing_products_lp.status]\n",
        "manufacturing_products_lp\n",
        "print(\"The optimized solution :\", pulp.value(manufacturing_products_lp.objective))\n",
        "for variable in manufacturing_products_lp.variables():\n",
        "  print(variable.name,variable.varValue)"
      ],
      "metadata": {
        "colab": {
          "base_uri": "https://localhost:8080/"
        },
        "id": "c9GFQBBwmiYI",
        "outputId": "3f2c9a5e-6522-4e47-97dd-a6e819cb2949"
      },
      "execution_count": null,
      "outputs": [
        {
          "output_type": "stream",
          "name": "stdout",
          "text": [
            "The optimized solution : 380.0\n",
            "P1 2.0\n",
            "P2 4.0\n"
          ]
        }
      ]
    },
    {
      "cell_type": "markdown",
      "source": [
        "# 5.A and B has 2 machines A-3M1,3M2,B-2M1,1M2,profit-7 for A and 4 for B,availabilty -12,9"
      ],
      "metadata": {
        "id": "4B42UJddtvTD"
      }
    },
    {
      "cell_type": "code",
      "source": [
        "manufacturing_products_lp = pulp.LpProblem(\"manufacturing 2 types of products\",pulp.LpMaximize)\n",
        "P1=pulp.LpVariable(\"P1\",lowBound=0,cat=\"Integer\")\n",
        "P2=pulp.LpVariable(\"P2\",lowBound=0,cat=\"Integer\")\n",
        "manufacturing_products_lp +=7*P1+4*P2 ,\"Z\"\n",
        "manufacturing_products_lp \n",
        "manufacturing_products_lp +=3*P1+2*P2 <=12,\"T1\"\n",
        "manufacturing_products_lp +=3*P1+1*P2 <=9,\"T2\"\n",
        "manufacturing_products_lp\n",
        "manufacturing_products_lp.solve()\n",
        "pulp.LpStatus[manufacturing_products_lp.status]\n",
        "manufacturing_products_lp\n",
        "print(\"The optimized solution :\", pulp.value(manufacturing_products_lp.objective))\n",
        "for variable in manufacturing_products_lp.variables():\n",
        "  print(variable.name,variable.varValue)"
      ],
      "metadata": {
        "colab": {
          "base_uri": "https://localhost:8080/"
        },
        "id": "da1bQ_hppxVJ",
        "outputId": "e845bcfe-9bc5-43bb-ef55-18eff1ca25a8"
      },
      "execution_count": null,
      "outputs": [
        {
          "output_type": "stream",
          "name": "stdout",
          "text": [
            "The optimized solution : 26.0\n",
            "P1 2.0\n",
            "P2 3.0\n"
          ]
        }
      ]
    },
    {
      "cell_type": "markdown",
      "source": [
        "## 6.comapny -2 types A and B -A-6shirts,10 pants,B-4 shirts,4 pants,cost-A-150,B-200,atleast-60,32"
      ],
      "metadata": {
        "id": "PJ9L1eP4tYhG"
      }
    },
    {
      "cell_type": "code",
      "source": [
        "manufacturing_products_lp = pulp.LpProblem(\"manufacturing 2 types of products\",pulp.LpMinimize)\n",
        "P1=pulp.LpVariable(\"P1\",lowBound=0,cat=\"Integer\")\n",
        "P2=pulp.LpVariable(\"P2\",lowBound=0,cat=\"Integer\")\n",
        "manufacturing_products_lp +=150*P1+200*P2 ,\"Z\"\n",
        "manufacturing_products_lp \n",
        "manufacturing_products_lp +=6*P1+10*P2 >=60,\"T1\"\n",
        "manufacturing_products_lp +=4*P1+4*P2 >=32,\"T2\"\n",
        "manufacturing_products_lp\n",
        "manufacturing_products_lp.solve()\n",
        "pulp.LpStatus[manufacturing_products_lp.status]\n",
        "manufacturing_products_lp\n",
        "print(\"The optimized solution :\", pulp.value(manufacturing_products_lp.objective))\n",
        "for variable in manufacturing_products_lp.variables():\n",
        "  print(variable.name,variable.varValue)"
      ],
      "metadata": {
        "colab": {
          "base_uri": "https://localhost:8080/"
        },
        "id": "uPcPY8eNrzOk",
        "outputId": "0c5e8d53-132b-424f-f534-950f745a7861"
      },
      "execution_count": null,
      "outputs": [
        {
          "output_type": "stream",
          "name": "stdout",
          "text": [
            "The optimized solution : 1350.0\n",
            "P1 5.0\n",
            "P2 3.0\n"
          ]
        }
      ]
    },
    {
      "cell_type": "markdown",
      "source": [
        "# 7. capital budget allocation"
      ],
      "metadata": {
        "id": "Mso4JoJfbNuV"
      }
    },
    {
      "cell_type": "code",
      "source": [
        "capital_budget_allocation_lp = pulp.LpProblem(\"Capital-Budget-Allocation-Problem\",pulp.LpMaximize)\n",
        "x1=pulp.LpVariable(\"x1\",cat=\"Binary\")\n",
        "x2=pulp.LpVariable(\"x2\",cat=\"Binary\")\n",
        "x3=pulp.LpVariable(\"x3\",cat=\"Binary\")\n",
        "x4=pulp.LpVariable(\"x4\",cat=\"Binary\")\n",
        "x5=pulp.LpVariable(\"x5\",cat=\"Binary\")\n",
        "x6=pulp.LpVariable(\"x6\",cat=\"Binary\")\n",
        "capital_budget_allocation_lp +=141*x1+187*x2+121*x3+83*x4+265*x5+127*x6 ,\"Z\"\n",
        "capital_budget_allocation_lp\n",
        "capital_budget_allocation_lp +=75*x1+90*x2+60*x3+30*x4+100*x5+50*x6 <=250,\"c1\"\n",
        "capital_budget_allocation_lp +=25*x1+35*x2+15*x3+20*x4+25*x5+20*x6 <=750,\"c2\"\n",
        "capital_budget_allocation_lp +=20*x1+0*x2+15*x3+10*x4+20*x5+10*x6 <=50,\"c3\"\n",
        "capital_budget_allocation_lp +=15*x1+0*x2+15*x3+5*x4+20*x5+30*x6 <=50,\"c4\"\n",
        "capital_budget_allocation_lp +=10*x1+30*x2+15*x3+5*x4+20*x5+40*x6 <=50,\"c5\"\n",
        "capital_budget_allocation_lp\n",
        "capital_budget_allocation_lp.solve()\n",
        "pulp.LpStatus[capital_budget_allocation_lp.status]\n",
        "capital_budget_allocation_lp\n",
        "print(\"The optimized solution :\", pulp.value(capital_budget_allocation_lp.objective))\n",
        "for variable in capital_budget_allocation_lp.variables():\n",
        "  print(variable.name,variable.varValue)"
      ],
      "metadata": {
        "id": "5K5-zMQFs970",
        "colab": {
          "base_uri": "https://localhost:8080/"
        },
        "outputId": "ee27da70-17a9-4313-a7a2-307991ac4ee4"
      },
      "execution_count": null,
      "outputs": [
        {
          "output_type": "stream",
          "name": "stdout",
          "text": [
            "The optimized solution : 489.0\n",
            "x1 1.0\n",
            "x2 0.0\n",
            "x3 0.0\n",
            "x4 1.0\n",
            "x5 1.0\n",
            "x6 0.0\n"
          ]
        }
      ]
    },
    {
      "cell_type": "markdown",
      "source": [
        "# 8.shift scheduling problem"
      ],
      "metadata": {
        "id": "LYgGUl4fkCVC"
      }
    },
    {
      "cell_type": "code",
      "source": [
        "wage_min_lp = pulp.LpProblem(\"Wage-Min-Problem\",pulp.LpMinimize)\n",
        "x1=pulp.LpVariable(\"x1\",lowBound=0,cat=\"Integer\")\n",
        "x2=pulp.LpVariable(\"x2\",lowBound=0,cat=\"Integer\")\n",
        "x3=pulp.LpVariable(\"x3\",lowBound=0,cat=\"Integer\")\n",
        "x4=pulp.LpVariable(\"x4\",lowBound=0,cat=\"Integer\")\n",
        "x5=pulp.LpVariable(\"x5\",lowBound=0,cat=\"Integer\")\n",
        "x6=pulp.LpVariable(\"x6\",lowBound=0,cat=\"Integer\")\n",
        "x7=pulp.LpVariable(\"x7\",lowBound=0,cat=\"Integer\")\n",
        "wage_min_lp +=680*x1+705*x2+705*x3+705*x4+705*x5+680*x6+655*x7 ,\"Z\"\n",
        "wage_min_lp\n",
        "wage_min_lp +=0*x1+1*x2+1*x3+1*x4+1*x5+1*x6+0*x7>=18,\"c1\"\n",
        "wage_min_lp +=0*x1+0*x2+1*x3+1*x4+1*x5+1*x6+1*x7 >=27,\"c2\"\n",
        "wage_min_lp +=1*x1+0*x2+0*x3+1*x4+1*x5+1*x6+1*x7 >=22,\"c3\"\n",
        "wage_min_lp+=1*x1+1*x2+0*x3+0*x4+1*x5+1*x6+1*x7 >=26,\"c4\"\n",
        "wage_min_lp +=1*x1+1*x2+1*x3+0*x4+0*x5+1*x6+1*x7 >=25,\"c5\"\n",
        "wage_min_lp +=1*x1+1*x2+1*x3+1*x4+0*x5+0*x6+1*x7 >=21,\"c6\"\n",
        "wage_min_lp +=1*x1+1*x2+1*x3+1*x4+1*x5+0*x6+0*x7>=19,\"c7\"\n",
        "wage_min_lp\n",
        "wage_min_lp.solve()\n",
        "pulp.LpStatus[wage_min_lp.status]\n",
        "wage_min_lp\n",
        "print(\"The optimized solution :\", pulp.value(wage_min_lp.objective))\n",
        "for variable in wage_min_lp.variables():\n",
        "  print(variable.name,variable.varValue)"
      ],
      "metadata": {
        "colab": {
          "base_uri": "https://localhost:8080/"
        },
        "id": "51nm3ngqiB6D",
        "outputId": "c13cab3d-1972-4705-de7d-da30e4845327"
      },
      "execution_count": null,
      "outputs": [
        {
          "output_type": "stream",
          "name": "stdout",
          "text": [
            "The optimized solution : 22540.0\n",
            "x1 6.0\n",
            "x2 0.0\n",
            "x3 7.0\n",
            "x4 0.0\n",
            "x5 6.0\n",
            "x6 5.0\n",
            "x7 9.0\n"
          ]
        }
      ]
    },
    {
      "cell_type": "markdown",
      "source": [
        "# 9.Transportation problem"
      ],
      "metadata": {
        "id": "CzKV8_ojEuDZ"
      }
    },
    {
      "cell_type": "code",
      "source": [
        "Transport_lp = pulp.LpProblem(\"Transport-Problem\",pulp.LpMinimize)\n",
        "x14=pulp.LpVariable(\"x14\",lowBound=0,cat=\"Integer\")\n",
        "x24=pulp.LpVariable(\"x24\",lowBound=0,cat=\"Integer\")\n",
        "x34=pulp.LpVariable(\"x34\",lowBound=0,cat=\"Integer\")\n",
        "x15=pulp.LpVariable(\"x15\",lowBound=0,cat=\"Integer\")\n",
        "x25=pulp.LpVariable(\"x25\",lowBound=0,cat=\"Integer\")\n",
        "x35=pulp.LpVariable(\"x35\",lowBound=0,cat=\"Integer\")\n",
        "x16=pulp.LpVariable(\"x16\",lowBound=0,cat=\"Integer\")\n",
        "x26=pulp.LpVariable(\"x26\",lowBound=0,cat=\"Integer\")\n",
        "x36=pulp.LpVariable(\"x36\",lowBound=0,cat=\"Integer\")\n",
        "Transport_lp +=21*x14+50*x15+40*x16+35*x24+30*x25+22*x26+55*x34+20*x35+25*x36 ,\"Z\"\n",
        "Transport_lp\n",
        "Transport_lp +=x14+x15+x16==275000,\"c1\"\n",
        "Transport_lp +=x24+x25+x26==400000,\"c2\"\n",
        "Transport_lp +=x34+x35+x36==300000,\"c3\"\n",
        "Transport_lp+=x14+x24+x34<=200000,\"c4\"\n",
        "Transport_lp +=x15+x25+x35<=600000,\"c5\"\n",
        "Transport_lp +=x16+x26+x36<=225000,\"c6\"\n",
        "Transport_lp\n",
        "Transport_lp.solve()\n",
        "pulp.LpStatus[Transport_lp.status]\n",
        "Transport_lp\n",
        "print(\"The optimized solution :\", pulp.value(Transport_lp.objective))\n",
        "for variable in Transport_lp.variables():\n",
        "  print(variable.name,variable.varValue)"
      ],
      "metadata": {
        "colab": {
          "base_uri": "https://localhost:8080/"
        },
        "id": "z1h2lrVWEn3l",
        "outputId": "d6605145-95d9-4204-c7b1-bbd8a13ebda9"
      },
      "execution_count": null,
      "outputs": [
        {
          "output_type": "stream",
          "name": "stdout",
          "text": [
            "The optimized solution : 24000000.0\n",
            "x14 200000.0\n",
            "x15 0.0\n",
            "x16 75000.0\n",
            "x24 0.0\n",
            "x25 250000.0\n",
            "x26 150000.0\n",
            "x34 0.0\n",
            "x35 300000.0\n",
            "x36 0.0\n"
          ]
        }
      ]
    },
    {
      "cell_type": "code",
      "source": [
        "10."
      ],
      "metadata": {
        "id": "1VUL7GTDw5Fw",
        "colab": {
          "base_uri": "https://localhost:8080/"
        },
        "outputId": "dbd318f5-a90f-4ffa-b210-ffecbc94ff59"
      },
      "execution_count": null,
      "outputs": [
        {
          "output_type": "execute_result",
          "data": {
            "text/plain": [
              "10.0"
            ]
          },
          "metadata": {},
          "execution_count": 66
        }
      ]
    },
    {
      "cell_type": "code",
      "source": [
        "manufacturing_products_lp = pulp.LpProblem(\"manufacturing 2 types of machines\",pulp.LpMaximize)\n",
        "P1=pulp.LpVariable(\"P1\",lowBound=0,cat=\"Integer\")\n",
        "P2=pulp.LpVariable(\"P2\",lowBound=0,cat=\"Integer\")\n",
        "manufacturing_products_lp +=5*P1+12*P2 ,\"Z\"\n",
        "manufacturing_products_lp \n",
        "manufacturing_products_lp +=20*P1+10*P2 <=200,\"T1\"\n",
        "manufacturing_products_lp +=10*P1+12*P2 <=120,\"T2\"\n",
        "manufacturing_products_lp +=5*P1+30*P2 <=150,\"T3\"\n",
        "manufacturing_products_lp\n",
        "manufacturing_products_lp.solve()\n",
        "pulp.LpStatus[manufacturing_products_lp.status]\n",
        "print(\"The optimized solution :\", pulp.value(manufacturing_products_lp.objective))\n",
        "for variable in manufacturing_products_lp.variables():\n",
        "  print(variable.name,variable.varValue)"
      ],
      "metadata": {
        "colab": {
          "base_uri": "https://localhost:8080/"
        },
        "id": "22IOxIY1FTnJ",
        "outputId": "fc0772cc-4235-48d9-b8db-d9248a00561f"
      },
      "execution_count": null,
      "outputs": [
        {
          "output_type": "stream",
          "name": "stdout",
          "text": [
            "The optimized solution : 78.0\n",
            "P1 6.0\n",
            "P2 4.0\n"
          ]
        }
      ]
    },
    {
      "cell_type": "code",
      "source": [
        "11."
      ],
      "metadata": {
        "id": "at3if1brFzvq",
        "colab": {
          "base_uri": "https://localhost:8080/"
        },
        "outputId": "f723e534-124e-4b77-dd57-afb073999f4c"
      },
      "execution_count": null,
      "outputs": [
        {
          "output_type": "execute_result",
          "data": {
            "text/plain": [
              "11.0"
            ]
          },
          "metadata": {},
          "execution_count": 68
        }
      ]
    },
    {
      "cell_type": "code",
      "source": [
        "manufacturing_products_lp = pulp.LpProblem(\"manufacturing 2 types of machines\",pulp.LpMinimize)\n",
        "P1=pulp.LpVariable(\"P1\",lowBound=0,cat=\"Integer\")\n",
        "P2=pulp.LpVariable(\"P2\",lowBound=0,cat=\"Integer\")\n",
        "manufacturing_products_lp +=3*P1+5*P2 ,\"Z\"\n",
        "manufacturing_products_lp \n",
        "manufacturing_products_lp +=2*P1+3*P2 >=12,\"T1\"\n",
        "manufacturing_products_lp +=-P1+P2 <=3,\"T2\"\n",
        "manufacturing_products_lp\n",
        "manufacturing_products_lp.solve()\n",
        "pulp.LpStatus[manufacturing_products_lp.status]\n",
        "print(\"The optimized solution :\", pulp.value(manufacturing_products_lp.objective))\n",
        "for variable in manufacturing_products_lp.variables():\n",
        "  print(variable.name,variable.varValue)"
      ],
      "metadata": {
        "colab": {
          "base_uri": "https://localhost:8080/"
        },
        "id": "kRB7OOcRF9mt",
        "outputId": "42b5e7e0-3baf-4c01-ceb7-0d08336ee843"
      },
      "execution_count": null,
      "outputs": [
        {
          "output_type": "stream",
          "name": "stdout",
          "text": [
            "The optimized solution : 18.0\n",
            "P1 6.0\n",
            "P2 0.0\n"
          ]
        }
      ]
    },
    {
      "cell_type": "code",
      "source": [
        "manufacturing_products_lp = pulp.LpProblem(\"manufacturing 2 types of machines\",pulp.LpMinimize)\n",
        "P1=pulp.LpVariable(\"P1\",lowBound=0,cat=\"Integer\")\n",
        "P2=pulp.LpVariable(\"P2\",lowBound=0,cat=\"Integer\")\n",
        "manufacturing_products_lp +=3*P1+5*P2 ,\"Z\"\n",
        "manufacturing_products_lp \n",
        "manufacturing_products_lp +=2*P1+3*P2 >=12,\"T1\"\n",
        "manufacturing_products_lp +=-P1+P2 >=30,\"T2\"\n",
        "manufacturing_products_lp\n",
        "manufacturing_products_lp.solve()\n",
        "pulp.LpStatus[manufacturing_products_lp.status]\n",
        "manufacturing_products_lp\n",
        "print(\"The optimized solution :\", pulp.value(manufacturing_products_lp.objective))\n",
        "for variable in manufacturing_products_lp.variables():\n",
        "  print(variable.name,variable.varValue)"
      ],
      "metadata": {
        "colab": {
          "base_uri": "https://localhost:8080/"
        },
        "id": "iH_NwIf6GnE2",
        "outputId": "5a74fb47-a4b8-4357-efe2-34a243c3e4a7"
      },
      "execution_count": null,
      "outputs": [
        {
          "output_type": "stream",
          "name": "stdout",
          "text": [
            "The optimized solution : 150.0\n",
            "P1 0.0\n",
            "P2 30.0\n"
          ]
        }
      ]
    },
    {
      "cell_type": "code",
      "source": [
        "manufacturing_products_lp.solve()\n",
        "pulp.LpStatus[manufacturing_products_lp.status]\n"
      ],
      "metadata": {
        "colab": {
          "base_uri": "https://localhost:8080/",
          "height": 35
        },
        "id": "auFarLyEG6dJ",
        "outputId": "bf11337e-3ae1-4732-9515-06f04dc0a150"
      },
      "execution_count": null,
      "outputs": [
        {
          "output_type": "execute_result",
          "data": {
            "text/plain": [
              "'Optimal'"
            ],
            "application/vnd.google.colaboratory.intrinsic+json": {
              "type": "string"
            }
          },
          "metadata": {},
          "execution_count": 71
        }
      ]
    },
    {
      "cell_type": "code",
      "source": [
        "12."
      ],
      "metadata": {
        "id": "1b8g5VFPHC57",
        "colab": {
          "base_uri": "https://localhost:8080/"
        },
        "outputId": "4e970880-c89b-45ee-c1a2-d0a9c199cc72"
      },
      "execution_count": null,
      "outputs": [
        {
          "output_type": "execute_result",
          "data": {
            "text/plain": [
              "12.0"
            ]
          },
          "metadata": {},
          "execution_count": 72
        }
      ]
    },
    {
      "cell_type": "code",
      "source": [
        "medicine_lp = pulp.LpProblem(\"manufacturing 2 types of medicines\",pulp.LpMaximize)\n",
        "P1=pulp.LpVariable(\"P1\",lowBound=0,cat=\"Integer\")\n",
        "P2=pulp.LpVariable(\"P2\",lowBound=0,cat=\"Integer\")\n",
        "medicine_lp +=25*P1+20*P2 ,\"Z\"\n",
        "medicine_lp \n",
        "medicine_lp +=3*P1+4*P2 <=25,\"T1\"\n",
        "medicine_lp +=2*P1+P2 <=10,\"T2\"\n",
        "medicine_lp\n",
        "medicine_lp.solve()\n",
        "pulp.LpStatus[medicine_lp.status]\n",
        "medicine_lp\n",
        "print(\"The optimized solution :\", pulp.value(medicine_lp.objective))\n",
        "for variable in medicine_lp.variables():\n",
        "  print(variable.name,variable.varValue)"
      ],
      "metadata": {
        "colab": {
          "base_uri": "https://localhost:8080/"
        },
        "id": "BgXIrg4fHIK6",
        "outputId": "1a487587-60a0-4a73-cb2b-f5764bca0378"
      },
      "execution_count": null,
      "outputs": [
        {
          "output_type": "stream",
          "name": "stdout",
          "text": [
            "The optimized solution : 155.0\n",
            "P1 3.0\n",
            "P2 4.0\n"
          ]
        }
      ]
    },
    {
      "cell_type": "code",
      "source": [
        "project_lp = pulp.LpProblem(\"Project-Problem\",pulp.LpMaximize)\n",
        "x1=pulp.LpVariable(\"x1\",lowBound=0,cat=\"Integer\")\n",
        "x2=pulp.LpVariable(\"x2\",lowBound=0,cat=\"Integer\")\n",
        "x3=pulp.LpVariable(\"x3\",lowBound=0,cat=\"Integer\")\n",
        "x4=pulp.LpVariable(\"x4\",lowBound=0,cat=\"Integer\")\n",
        "project_lp +=5.24*x1+7.30*x2+8.34*x3+4.18*x4 ,\"Z\"\n",
        "project_lp\n",
        "project_lp +=1.5*x1+1*x2+2.4*x3+1*x4<=2000,\"c1\"\n",
        "project_lp +=1*x1+5*x2+1*x3+3.5*x4<=8000,\"c2\"\n",
        "project_lp +=1.5*x1+3*x2+3.5*x3+1*x4<=5000,\"c3\"\n",
        "project_lp\n",
        "project_lp.solve()\n",
        "pulp.LpStatus[project_lp.status]\n",
        "project_lp\n",
        "print(\"The optimized solution :\", pulp.value(project_lp.objective))\n",
        "for variable in project_lp.variables():\n",
        "  print(variable.name,variable.varValue)"
      ],
      "metadata": {
        "id": "4wZZqQ1CHyyb",
        "colab": {
          "base_uri": "https://localhost:8080/"
        },
        "outputId": "4859e470-bebc-433a-d14e-36c7e0459e2c"
      },
      "execution_count": null,
      "outputs": [
        {
          "output_type": "stream",
          "name": "stdout",
          "text": [
            "The optimized solution : 12735.12\n",
            "x1 296.0\n",
            "x2 1500.0\n",
            "x3 0.0\n",
            "x4 56.0\n"
          ]
        }
      ]
    },
    {
      "cell_type": "code",
      "source": [],
      "metadata": {
        "id": "y9HazBYPjOoE"
      },
      "execution_count": null,
      "outputs": []
    }
  ]
}